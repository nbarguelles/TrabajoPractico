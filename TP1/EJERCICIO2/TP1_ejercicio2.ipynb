{
  "nbformat": 4,
  "nbformat_minor": 0,
  "metadata": {
    "colab": {
      "name": "TP1ejercicio2ultimo.ipynb",
      "provenance": [],
      "collapsed_sections": []
    },
    "kernelspec": {
      "name": "python3",
      "display_name": "Python 3"
    },
    "language_info": {
      "name": "python"
    }
  },
  "cells": [
    {
      "cell_type": "markdown",
      "source": [
        "Trabajo Práctico N° 1"
      ],
      "metadata": {
        "id": "SVEbJFGV_Tfm"
      }
    },
    {
      "cell_type": "markdown",
      "source": [
        "#Data aqcuisition"
      ],
      "metadata": {
        "id": "9XzS0_7u_kOD"
      }
    },
    {
      "cell_type": "code",
      "execution_count": 118,
      "metadata": {
        "id": "fKz20mShLJZ1"
      },
      "outputs": [],
      "source": [
        "import numpy as np\n",
        "import pandas as pd\n",
        "import matplotlib.pyplot as plt\n",
        "\n"
      ]
    },
    {
      "cell_type": "code",
      "source": [
        "df = pd.read_csv(\"CMEs.csv\")\n",
        "df = df.set_index(\"Origin\")\n",
        "print(df)\n",
        "print(df.shape)\n"
      ],
      "metadata": {
        "id": "IMa9g-xU_c3G"
      },
      "execution_count": null,
      "outputs": []
    },
    {
      "cell_type": "markdown",
      "source": [
        "#Pre-processing"
      ],
      "metadata": {
        "id": "l9voalcT_1Bs"
      }
    },
    {
      "cell_type": "code",
      "source": [
        "#Agrego un vector con los números de la clasificacion de flares y no flares\n",
        "ClaseBoolean = (df.index == \"flare\") #Hago un vector que tome true=la categoria que quiero\n",
        "ClaseBoolean = (ClaseBoolean*1)#Lo transformo a numero, tomo \"no flare = 0\", \"flare = 1\"\n",
        "df.insert(2,\"categoriaTarget\", ClaseBoolean)\n"
      ],
      "metadata": {
        "id": "YxTmIjEn_8dB"
      },
      "execution_count": 120,
      "outputs": []
    },
    {
      "cell_type": "code",
      "source": [
        "print(df)"
      ],
      "metadata": {
        "id": "k5nKmNVmAEy7"
      },
      "execution_count": null,
      "outputs": []
    },
    {
      "cell_type": "code",
      "source": [
        "categoriaSunActivity = {\"high\": 1, \"low\":-1}\n",
        "df[\"SunActivity\"] = df[\"SunActivity\"].map(categoriaSunActivity) \n",
        "df[\"SunActivity\"]"
      ],
      "metadata": {
        "id": "pq9uEuEnTpcH"
      },
      "execution_count": null,
      "outputs": []
    },
    {
      "cell_type": "code",
      "source": [
        "print(df)"
      ],
      "metadata": {
        "id": "TdbJIo0xAfFb"
      },
      "execution_count": null,
      "outputs": []
    },
    {
      "cell_type": "markdown",
      "source": [
        "#Feature engineering"
      ],
      "metadata": {
        "id": "eXQh6Vg6Ak8v"
      }
    },
    {
      "cell_type": "code",
      "source": [
        "balanceDatos = df[\"categoriaTarget\"].value_counts()\n",
        "print(balanceDatos)"
      ],
      "metadata": {
        "id": "yH_ef09ETz-B"
      },
      "execution_count": null,
      "outputs": []
    },
    {
      "cell_type": "code",
      "source": [
        "# Hay 13 unos de mas, los quito\n",
        "counter = 13\n",
        "dfAux = pd.DataFrame()\n",
        "for index,row in df.iterrows():\n",
        "  if(counter>0):\n",
        "    if(row[\"categoriaTarget\"]==1):\n",
        "      counter-=1\n",
        "    else:\n",
        "       dfAux = dfAux.append(row)\n",
        "  else:\n",
        "    dfAux = dfAux.append(row)\n",
        "    \n",
        "dfAux.shape"
      ],
      "metadata": {
        "id": "1krLBnauAuw_"
      },
      "execution_count": null,
      "outputs": []
    },
    {
      "cell_type": "code",
      "source": [
        "balanceDatosPost = dfAux[\"categoriaTarget\"].value_counts()\n",
        "print(balanceDatosPost)"
      ],
      "metadata": {
        "id": "8mIyr6HYAxDh"
      },
      "execution_count": null,
      "outputs": []
    },
    {
      "cell_type": "markdown",
      "source": [
        "#Data preparation"
      ],
      "metadata": {
        "id": "uBASA6kbA4_Q"
      }
    },
    {
      "cell_type": "code",
      "source": [
        "features = dfAux.loc[:, dfAux.columns != \"categoriaTarget\"]\n",
        "target = dfAux.loc[:, dfAux.columns == \"categoriaTarget\"]"
      ],
      "metadata": {
        "id": "Gw9MQA75T8Y-"
      },
      "execution_count": 127,
      "outputs": []
    },
    {
      "cell_type": "code",
      "source": [
        "features.shape\n",
        "print(features)"
      ],
      "metadata": {
        "id": "ppnTs0f6BBCV"
      },
      "execution_count": null,
      "outputs": []
    },
    {
      "cell_type": "code",
      "source": [
        "target.shape\n",
        "print(target)"
      ],
      "metadata": {
        "id": "Wl-_ZXiGYOTa"
      },
      "execution_count": null,
      "outputs": []
    },
    {
      "cell_type": "code",
      "source": [
        "features.min()\n",
        "features.max()"
      ],
      "metadata": {
        "id": "SDdxkhnBA_D3"
      },
      "execution_count": null,
      "outputs": []
    },
    {
      "cell_type": "code",
      "source": [
        "from sklearn.model_selection import train_test_split"
      ],
      "metadata": {
        "id": "_ripxSphUFIy"
      },
      "execution_count": 131,
      "outputs": []
    },
    {
      "cell_type": "code",
      "source": [
        "features_train, features_test, target_train, target_test = train_test_split(features, target, test_size=0.2)\n",
        "features_train.shape"
      ],
      "metadata": {
        "id": "e-5vdGxXUHrS"
      },
      "execution_count": null,
      "outputs": []
    },
    {
      "cell_type": "code",
      "source": [
        "from sklearn.preprocessing import MinMaxScaler"
      ],
      "metadata": {
        "id": "XqcdpvjlU4mR"
      },
      "execution_count": 133,
      "outputs": []
    },
    {
      "cell_type": "code",
      "source": [
        "scaler = MinMaxScaler()\n",
        "\n",
        "#features_train = features_train.to_numpy()\n",
        "#features_train = features_train.reshape((-1,1))\n",
        "#features_train_scaled = scaler.fit_transform(features_train)\n",
        "\n",
        "features_train_scaled = scaler.fit_transform(features_train)"
      ],
      "metadata": {
        "id": "v3Br3KYyU-l_"
      },
      "execution_count": 134,
      "outputs": []
    },
    {
      "cell_type": "code",
      "source": [
        "features_train_scaled.shape"
      ],
      "metadata": {
        "id": "7m1OVCZvcHzK"
      },
      "execution_count": null,
      "outputs": []
    },
    {
      "cell_type": "code",
      "source": [
        "print(features_train_scaled)"
      ],
      "metadata": {
        "id": "sVTGaTX7hJ4I"
      },
      "execution_count": null,
      "outputs": []
    },
    {
      "cell_type": "code",
      "source": [
        "#features_test = features_test.to_numpy()\n",
        "#features_test = features_test.reshape((-1,1))\n",
        "features_test_scaled = scaler.transform(features_test)"
      ],
      "metadata": {
        "id": "FwS5QVl0VgMD"
      },
      "execution_count": 137,
      "outputs": []
    },
    {
      "cell_type": "code",
      "source": [
        "features_test_scaled.shape"
      ],
      "metadata": {
        "id": "LsJekFmUhBLg"
      },
      "execution_count": null,
      "outputs": []
    },
    {
      "cell_type": "markdown",
      "source": [
        "#Modeling"
      ],
      "metadata": {
        "id": "SVNSaEczDBGI"
      }
    },
    {
      "cell_type": "code",
      "source": [
        "from keras.models import Sequential\n",
        "from keras.layers.core import Activation, Dense\n",
        "import tensorflow as tf"
      ],
      "metadata": {
        "id": "xQsyIsImWtcz"
      },
      "execution_count": 139,
      "outputs": []
    },
    {
      "cell_type": "code",
      "source": [
        "myInputSize = features_train_scaled.shape[1]\n",
        "print(myInputSize)"
      ],
      "metadata": {
        "id": "5imZfLgZbGfD"
      },
      "execution_count": null,
      "outputs": []
    },
    {
      "cell_type": "code",
      "source": [
        "myInputSize = features_train_scaled.shape[1]\n",
        "\n",
        "#arquitectura red neuronal\n",
        "model = Sequential()\n",
        "model.add(Dense(20, input_dim = myInputSize))\n",
        "model.add(Activation(\"tanh\"))\n",
        "model.add(Dense(1))\n",
        "model.add(Activation(\"relu\"))\n",
        "\n",
        "model.compile(loss= \"binary_crossentropy\", optimizer = \"rmsprop\", metrics = [tf.keras.metrics.Accuracy()])\n",
        "#model.compile(loss= \"binary_crossentropy\", optimizer = \"adam\", metrics=['binary_accuracy'])"
      ],
      "metadata": {
        "id": "P90MVSbEXV0M"
      },
      "execution_count": 141,
      "outputs": []
    },
    {
      "cell_type": "code",
      "source": [
        "history = model.fit(features_train_scaled, target_train, epochs = 50, validation_split = 0.2)"
      ],
      "metadata": {
        "id": "SiiqUEJtXjG-"
      },
      "execution_count": null,
      "outputs": []
    },
    {
      "cell_type": "code",
      "source": [
        "from matplotlib import pyplot as plt"
      ],
      "metadata": {
        "id": "BDZn7P0camm6"
      },
      "execution_count": 143,
      "outputs": []
    },
    {
      "cell_type": "code",
      "source": [
        "plt.plot(history.history[\"loss\"])\n",
        "plt.plot(history.history[\"val_loss\"])"
      ],
      "metadata": {
        "colab": {
          "base_uri": "https://localhost:8080/",
          "height": 282
        },
        "id": "xwEgkTOIa6Zi",
        "outputId": "33bd2e00-3a6d-43b5-8df8-69b29b597137"
      },
      "execution_count": 144,
      "outputs": [
        {
          "output_type": "execute_result",
          "data": {
            "text/plain": [
              "[<matplotlib.lines.Line2D at 0x7fbfc3c04d10>]"
            ]
          },
          "metadata": {},
          "execution_count": 144
        },
        {
          "output_type": "display_data",
          "data": {
            "text/plain": [
              "<Figure size 432x288 with 1 Axes>"
            ],
            "image/png": "[encoded data removed]"
          },
          "metadata": {
            "needs_background": "light"
          }
        }
      ]
    },
    {
      "cell_type": "code",
      "source": [
        "plt.plot(history.history[\"accuracy\"])\n",
        "plt.plot(history.history[\"val_accuracy\"])"
      ],
      "metadata": {
        "colab": {
          "base_uri": "https://localhost:8080/",
          "height": 282
        },
        "id": "3f7g0dOPDa-m",
        "outputId": "0b4f9ddd-991c-440b-9667-f1ec5449808f"
      },
      "execution_count": 145,
      "outputs": [
        {
          "output_type": "execute_result",
          "data": {
            "text/plain": [
              "[<matplotlib.lines.Line2D at 0x7fbfc3b56d90>]"
            ]
          },
          "metadata": {},
          "execution_count": 145
        },
        {
          "output_type": "display_data",
          "data": {
            "text/plain": [
              "<Figure size 432x288 with 1 Axes>"
            ],
            "image/png": "[encoded data removed]"
          },
          "metadata": {
            "needs_background": "light"
          }
        }
      ]
    },
    {
      "cell_type": "markdown",
      "source": [
        "#Classification and validation"
      ],
      "metadata": {
        "id": "LgKzTc1wDgxX"
      }
    },
    {
      "cell_type": "code",
      "source": [
        "yPred = model.predict(features_test)"
      ],
      "metadata": {
        "id": "PoFr-ClzDjg9"
      },
      "execution_count": 146,
      "outputs": []
    },
    {
      "cell_type": "code",
      "source": [
        "from sklearn.metrics import confusion_matrix\n",
        "import numpy as np\n",
        "\n",
        "cm = confusion_matrix(np.round(yPred), target_test, labels=[0.0, 1.0])"
      ],
      "metadata": {
        "id": "ngxKWYZBDmyx"
      },
      "execution_count": 147,
      "outputs": []
    },
    {
      "cell_type": "code",
      "source": [
        "print(cm)"
      ],
      "metadata": {
        "colab": {
          "base_uri": "https://localhost:8080/"
        },
        "id": "FEfTIr2pEFZT",
        "outputId": "9f0b3056-d84f-4078-8a73-1dd6dbcdb381"
      },
      "execution_count": 148,
      "outputs": [
        {
          "output_type": "stream",
          "name": "stdout",
          "text": [
            "[[0 0]\n",
            " [6 5]]\n"
          ]
        }
      ]
    }
  ]
}