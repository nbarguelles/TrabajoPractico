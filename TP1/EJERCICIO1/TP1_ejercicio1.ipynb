{
  "nbformat": 4,
  "nbformat_minor": 0,
  "metadata": {
    "colab": {
      "name": "TP1_ejercicio1.ipynb",
      "provenance": [],
      "collapsed_sections": []
    },
    "kernelspec": {
      "name": "python3",
      "display_name": "Python 3"
    },
    "language_info": {
      "name": "python"
    }
  },
  "cells": [
    {
      "cell_type": "markdown",
      "source": [
        "Trabajo Práctico N° 1 \n",
        "\n"
      ],
      "metadata": {
        "id": "jJqIr7-m1-RV"
      }
    },
    {
      "cell_type": "markdown",
      "source": [
        "#Data acquisition"
      ],
      "metadata": {
        "id": "Y3zuAIfD2QKF"
      }
    },
    {
      "cell_type": "code",
      "execution_count": 18,
      "metadata": {
        "id": "WTAgAFNuK6p4"
      },
      "outputs": [],
      "source": [
        "import pandas as pd\n"
      ]
    },
    {
      "cell_type": "code",
      "source": [
        "df = pd.read_csv(\"ionosphere.data\",header = None)\n",
        "print(df)\n",
        "print(df.shape)"
      ],
      "metadata": {
        "id": "DCg25nG8vsHm"
      },
      "execution_count": null,
      "outputs": []
    },
    {
      "cell_type": "code",
      "source": [
        "columnas = list()\n",
        "for i in range(1,18):\n",
        "   col1 = \"f\" + str(i)+\"_r\"\n",
        "   col2 = \"f\" + str(i)+\"_i\"\n",
        "   columnas.append(col1)\n",
        "   columnas.append(col2)\n",
        "\n",
        "\n",
        "columnas.append(\"target\")\n",
        "columnas\n",
        "df.columns = columnas\n",
        "df.head()"
      ],
      "metadata": {
        "id": "XvytSwI3ZYZv"
      },
      "execution_count": null,
      "outputs": []
    },
    {
      "cell_type": "markdown",
      "source": [
        "#Pre - processing"
      ],
      "metadata": {
        "id": "WDUmRKyX2cSo"
      }
    },
    {
      "cell_type": "code",
      "source": [
        "#categorizar target a partir de 0 y 1 (de b o g)\n",
        "categoriaTarget = {\"g\": 1, \"b\":0}\n",
        "df[\"target\"] = df[\"target\"].map(categoriaTarget) \n",
        "df[\"target\"]"
      ],
      "metadata": {
        "id": "VldAgwTUaOnF"
      },
      "execution_count": null,
      "outputs": []
    },
    {
      "cell_type": "markdown",
      "source": [
        "#Feature engineering"
      ],
      "metadata": {
        "id": "IGOBmXcDv2LS"
      }
    },
    {
      "cell_type": "code",
      "source": [
        "balanceDeDatos = df[\"target\"].value_counts()\n",
        "print(balanceDeDatos)"
      ],
      "metadata": {
        "colab": {
          "base_uri": "https://localhost:8080/"
        },
        "id": "guAzz6ZDbeRc",
        "outputId": "e891e595-29a2-47c5-d742-6dd9dc6d8d8b"
      },
      "execution_count": 22,
      "outputs": [
        {
          "output_type": "stream",
          "name": "stdout",
          "text": [
            "1    225\n",
            "0    126\n",
            "Name: target, dtype: int64\n"
          ]
        }
      ]
    },
    {
      "cell_type": "code",
      "source": [
        "counter = 99\n",
        "dfAux = pd.DataFrame()\n",
        "for index,row in df.iterrows():\n",
        "  if(counter>0):\n",
        "    if(row[\"target\"]==1):\n",
        "      counter-=1\n",
        "    else:\n",
        "       dfAux = dfAux.append(row)\n",
        "  else:\n",
        "    dfAux = dfAux.append(row)"
      ],
      "metadata": {
        "id": "l5dpAdfqb2d_"
      },
      "execution_count": 23,
      "outputs": []
    },
    {
      "cell_type": "code",
      "source": [
        "dfAux.shape"
      ],
      "metadata": {
        "colab": {
          "base_uri": "https://localhost:8080/"
        },
        "id": "T8HzKYecdXXe",
        "outputId": "7fe69bc1-a245-4d0b-8767-07d952eca48d"
      },
      "execution_count": 24,
      "outputs": [
        {
          "output_type": "execute_result",
          "data": {
            "text/plain": [
              "(252, 35)"
            ]
          },
          "metadata": {},
          "execution_count": 24
        }
      ]
    },
    {
      "cell_type": "code",
      "source": [
        "balanceDeDatos2 = dfAux[\"target\"].value_counts()\n",
        "print(balanceDeDatos2)"
      ],
      "metadata": {
        "colab": {
          "base_uri": "https://localhost:8080/"
        },
        "id": "I1zrwjIqdlW_",
        "outputId": "da135142-cbc9-4017-fe76-863d02bf9b13"
      },
      "execution_count": 25,
      "outputs": [
        {
          "output_type": "stream",
          "name": "stdout",
          "text": [
            "0.0    126\n",
            "1.0    126\n",
            "Name: target, dtype: int64\n"
          ]
        }
      ]
    },
    {
      "cell_type": "markdown",
      "source": [
        "# Data preparation"
      ],
      "metadata": {
        "id": "8z-NoFHEd3fE"
      }
    },
    {
      "cell_type": "code",
      "source": [
        "features = dfAux.loc[:, dfAux.columns != \"target\"]\n",
        "target = dfAux.loc[:, dfAux.columns == \"target\"]\n"
      ],
      "metadata": {
        "id": "Q7jCPyLTd6nM"
      },
      "execution_count": 26,
      "outputs": []
    },
    {
      "cell_type": "code",
      "source": [
        "features.shape"
      ],
      "metadata": {
        "colab": {
          "base_uri": "https://localhost:8080/"
        },
        "id": "D8XpazUFeKbU",
        "outputId": "a2de1ac8-2520-417c-88a9-5e1965a83536"
      },
      "execution_count": 27,
      "outputs": [
        {
          "output_type": "execute_result",
          "data": {
            "text/plain": [
              "(252, 34)"
            ]
          },
          "metadata": {},
          "execution_count": 27
        }
      ]
    },
    {
      "cell_type": "code",
      "source": [
        "#analisis para escalamiento de datos si es necesario\n",
        "features.min()\n",
        "features.max()"
      ],
      "metadata": {
        "id": "OVBLyHEleRgR"
      },
      "execution_count": null,
      "outputs": []
    },
    {
      "cell_type": "markdown",
      "source": [
        "# Modeling\n"
      ],
      "metadata": {
        "id": "00X0YqunenSQ"
      }
    },
    {
      "cell_type": "code",
      "source": [
        "from sklearn.model_selection import train_test_split\n",
        "features_train, features_test, target_train, target_test = train_test_split(features, target, test_size=0.2)"
      ],
      "metadata": {
        "id": "8g9fW79de-7d"
      },
      "execution_count": 29,
      "outputs": []
    },
    {
      "cell_type": "code",
      "source": [
        "from keras.models import Sequential\n",
        "from keras.layers.core import Activation, Dense\n",
        "import tensorflow as tf"
      ],
      "metadata": {
        "id": "JmFCdChCehS_"
      },
      "execution_count": 30,
      "outputs": []
    },
    {
      "cell_type": "code",
      "source": [
        "myInputSize = features_train.shape[1]\n",
        "\n",
        "#arquitectura red neuronal\n",
        "model = Sequential()\n",
        "model.add(Dense(20, input_dim = myInputSize))\n",
        "model.add(Activation(\"sigmoid\"))\n",
        "model.add(Dense(1))\n",
        "model.add(Activation(\"relu\"))\n",
        "\n",
        "#model.compile(loss=\"binary_crossentropy\", optimizer=\"rmsprop\", metrics=[tf.keras.metrics.Accuracy()])\n",
        "model.compile(loss=\"binary_crossentropy\", optimizer=\"rmsprop\", metrics=[\"accuracy\"])"
      ],
      "metadata": {
        "id": "n-_idErze4xJ"
      },
      "execution_count": 64,
      "outputs": []
    },
    {
      "cell_type": "code",
      "source": [
        "\n",
        "history = model.fit(features_train, target_train, epochs = 20, validation_split = 0.2)"
      ],
      "metadata": {
        "colab": {
          "base_uri": "https://localhost:8080/"
        },
        "id": "C9lEVbAXib4C",
        "outputId": "cd647252-6f8c-440e-f659-1f2fad352704"
      },
      "execution_count": 65,
      "outputs": [
        {
          "output_type": "stream",
          "name": "stdout",
          "text": [
            "Epoch 1/20\n",
            "5/5 [==============================] - 1s 54ms/step - loss: 1.3793 - accuracy: 0.4250 - val_loss: 0.6920 - val_accuracy: 0.5610\n",
            "Epoch 2/20\n",
            "5/5 [==============================] - 0s 9ms/step - loss: 0.8380 - accuracy: 0.5688 - val_loss: 0.6581 - val_accuracy: 0.6585\n",
            "Epoch 3/20\n",
            "5/5 [==============================] - 0s 9ms/step - loss: 0.7947 - accuracy: 0.6000 - val_loss: 0.6414 - val_accuracy: 0.6585\n",
            "Epoch 4/20\n",
            "5/5 [==============================] - 0s 9ms/step - loss: 0.7651 - accuracy: 0.6062 - val_loss: 0.6310 - val_accuracy: 0.6098\n",
            "Epoch 5/20\n",
            "5/5 [==============================] - 0s 9ms/step - loss: 0.7429 - accuracy: 0.6438 - val_loss: 0.6226 - val_accuracy: 0.6341\n",
            "Epoch 6/20\n",
            "5/5 [==============================] - 0s 8ms/step - loss: 0.7251 - accuracy: 0.6562 - val_loss: 0.6109 - val_accuracy: 0.6341\n",
            "Epoch 7/20\n",
            "5/5 [==============================] - 0s 9ms/step - loss: 0.7070 - accuracy: 0.6562 - val_loss: 0.6041 - val_accuracy: 0.6341\n",
            "Epoch 8/20\n",
            "5/5 [==============================] - 0s 9ms/step - loss: 0.6900 - accuracy: 0.6687 - val_loss: 0.5971 - val_accuracy: 0.6829\n",
            "Epoch 9/20\n",
            "5/5 [==============================] - 0s 8ms/step - loss: 0.6768 - accuracy: 0.7437 - val_loss: 0.5845 - val_accuracy: 0.7073\n",
            "Epoch 10/20\n",
            "5/5 [==============================] - 0s 9ms/step - loss: 0.6621 - accuracy: 0.7563 - val_loss: 0.5805 - val_accuracy: 0.8049\n",
            "Epoch 11/20\n",
            "5/5 [==============================] - 0s 8ms/step - loss: 0.6483 - accuracy: 0.8000 - val_loss: 0.5676 - val_accuracy: 0.7561\n",
            "Epoch 12/20\n",
            "5/5 [==============================] - 0s 9ms/step - loss: 0.6358 - accuracy: 0.7750 - val_loss: 0.5680 - val_accuracy: 0.8049\n",
            "Epoch 13/20\n",
            "5/5 [==============================] - 0s 9ms/step - loss: 0.6245 - accuracy: 0.8188 - val_loss: 0.5630 - val_accuracy: 0.8049\n",
            "Epoch 14/20\n",
            "5/5 [==============================] - 0s 9ms/step - loss: 0.5496 - accuracy: 0.8188 - val_loss: 0.5281 - val_accuracy: 0.7561\n",
            "Epoch 15/20\n",
            "5/5 [==============================] - 0s 9ms/step - loss: 0.5204 - accuracy: 0.8062 - val_loss: 0.5241 - val_accuracy: 0.7805\n",
            "Epoch 16/20\n",
            "5/5 [==============================] - 0s 9ms/step - loss: 0.5106 - accuracy: 0.8438 - val_loss: 0.5182 - val_accuracy: 0.7805\n",
            "Epoch 17/20\n",
            "5/5 [==============================] - 0s 9ms/step - loss: 0.5011 - accuracy: 0.8438 - val_loss: 0.5128 - val_accuracy: 0.8293\n",
            "Epoch 18/20\n",
            "5/5 [==============================] - 0s 8ms/step - loss: 0.4936 - accuracy: 0.8375 - val_loss: 0.5086 - val_accuracy: 0.8293\n",
            "Epoch 19/20\n",
            "5/5 [==============================] - 0s 9ms/step - loss: 0.4821 - accuracy: 0.8500 - val_loss: 0.5026 - val_accuracy: 0.8293\n",
            "Epoch 20/20\n",
            "5/5 [==============================] - 0s 10ms/step - loss: 0.4770 - accuracy: 0.8500 - val_loss: 0.4974 - val_accuracy: 0.8293\n"
          ]
        }
      ]
    },
    {
      "cell_type": "code",
      "source": [
        "from matplotlib import pyplot as plt"
      ],
      "metadata": {
        "id": "p-DfQtlBiwHO"
      },
      "execution_count": 33,
      "outputs": []
    },
    {
      "cell_type": "code",
      "source": [
        "plt.plot(history.history[\"loss\"])\n",
        "plt.plot(history.history[\"val_loss\"])"
      ],
      "metadata": {
        "colab": {
          "base_uri": "https://localhost:8080/",
          "height": 282
        },
        "id": "GNbSw0jki1rd",
        "outputId": "be13e1e1-8f5b-4154-a6e9-cf90de415ee0"
      },
      "execution_count": 66,
      "outputs": [
        {
          "output_type": "execute_result",
          "data": {
            "text/plain": [
              "[<matplotlib.lines.Line2D at 0x7f21b3586c90>]"
            ]
          },
          "metadata": {},
          "execution_count": 66
        },
        {
          "output_type": "display_data",
          "data": {
            "text/plain": [
              "<Figure size 432x288 with 1 Axes>"
            ],
            "image/png": "[encoded data removed]"
          },
          "metadata": {
            "needs_background": "light"
          }
        }
      ]
    },
    {
      "cell_type": "code",
      "source": [
        "plt.plot(history.history[\"accuracy\"])\n",
        "plt.plot(history.history[\"val_accuracy\"])"
      ],
      "metadata": {
        "colab": {
          "base_uri": "https://localhost:8080/",
          "height": 282
        },
        "id": "o3Kx13KkjQQB",
        "outputId": "e26e1d10-4a02-4f7d-a2c5-807a9f6579dc"
      },
      "execution_count": 67,
      "outputs": [
        {
          "output_type": "execute_result",
          "data": {
            "text/plain": [
              "[<matplotlib.lines.Line2D at 0x7f21b352f8d0>]"
            ]
          },
          "metadata": {},
          "execution_count": 67
        },
        {
          "output_type": "display_data",
          "data": {
            "text/plain": [
              "<Figure size 432x288 with 1 Axes>"
            ],
            "image/png": "[encoded data removed]"
          },
          "metadata": {
            "needs_background": "light"
          }
        }
      ]
    },
    {
      "cell_type": "markdown",
      "source": [
        "#Classification and validation"
      ],
      "metadata": {
        "id": "rz2dPa0l2x1C"
      }
    },
    {
      "cell_type": "code",
      "source": [
        "yPred = model.predict(features_test)"
      ],
      "metadata": {
        "id": "OlXvYu3Gjss8"
      },
      "execution_count": 68,
      "outputs": []
    },
    {
      "cell_type": "code",
      "source": [
        "from sklearn.metrics import confusion_matrix\n",
        "import numpy as np\n",
        "\n",
        "cm = confusion_matrix(np.round(yPred), target_test, labels=[0.0, 1.0])"
      ],
      "metadata": {
        "id": "ZZeVHtYjj_29"
      },
      "execution_count": 69,
      "outputs": []
    },
    {
      "cell_type": "code",
      "source": [
        "print(cm)"
      ],
      "metadata": {
        "colab": {
          "base_uri": "https://localhost:8080/"
        },
        "id": "mWTx-nBekaYg",
        "outputId": "9e6b09fd-3899-4302-927e-7dd864ca020a"
      },
      "execution_count": 70,
      "outputs": [
        {
          "output_type": "stream",
          "name": "stdout",
          "text": [
            "[[19  2]\n",
            " [10 20]]\n"
          ]
        }
      ]
    }
  ]
}