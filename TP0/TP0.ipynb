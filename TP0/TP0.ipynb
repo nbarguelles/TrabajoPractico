{
  "nbformat": 4,
  "nbformat_minor": 0,
  "metadata": {
    "colab": {
      "provenance": [],
      "collapsed_sections": [
        "bia9oqwnWPOr",
        "UwVix7cOekHZ"
      ]
    },
    "kernelspec": {
      "name": "python3",
      "display_name": "Python 3"
    },
    "language_info": {
      "name": "python"
    }
  },
  "cells": [
    {
      "cell_type": "markdown",
      "source": [
        "Trabajo Práctico N° 0"
      ],
      "metadata": {
        "id": "V9o6bUr1WM5N"
      }
    },
    {
      "cell_type": "markdown",
      "source": [
        "#Lectura de datos"
      ],
      "metadata": {
        "id": "bia9oqwnWPOr"
      }
    },
    {
      "cell_type": "code",
      "source": [
        "import pandas as pd\n",
        "import numpy as np"
      ],
      "metadata": {
        "id": "4izlW7B3WTZm"
      },
      "execution_count": null,
      "outputs": []
    },
    {
      "cell_type": "code",
      "source": [
        "datos = pd.read_csv(\"Dst.txt\", sep=\"\\s+\", header=None, skiprows=15)"
      ],
      "metadata": {
        "id": "8BzfZ8nkJqLA"
      },
      "execution_count": null,
      "outputs": []
    },
    {
      "cell_type": "code",
      "source": [
        "#datos = pd.read_csv(\"Dst2.txt\", header= None, sep='\\s+', engine='python')"
      ],
      "metadata": {
        "id": "wg1U2holJGJB"
      },
      "execution_count": null,
      "outputs": []
    },
    {
      "cell_type": "code",
      "source": [
        "print(datos)"
      ],
      "metadata": {
        "id": "8-kB0RvPYLqf"
      },
      "execution_count": null,
      "outputs": []
    },
    {
      "cell_type": "code",
      "source": [
        "datos.shape"
      ],
      "metadata": {
        "id": "JCLBUPJVYPr2"
      },
      "execution_count": null,
      "outputs": []
    },
    {
      "cell_type": "code",
      "source": [
        "df= datos.loc[:,3:26]"
      ],
      "metadata": {
        "id": "9TktCEVHdKxl"
      },
      "execution_count": null,
      "outputs": []
    },
    {
      "cell_type": "code",
      "source": [
        "df.shape"
      ],
      "metadata": {
        "id": "BsS-asGZeKgz",
        "colab": {
          "base_uri": "https://localhost:8080/"
        },
        "outputId": "07b8e279-3d8f-43b2-e590-653ad45e5ed1"
      },
      "execution_count": null,
      "outputs": [
        {
          "output_type": "execute_result",
          "data": {
            "text/plain": [
              "(31, 24)"
            ]
          },
          "metadata": {},
          "execution_count": 19
        }
      ]
    },
    {
      "cell_type": "code",
      "source": [
        "columnas = list()\n",
        "for i in range(0,24):\n",
        "   columna = \"Hora\" + str(i+1)\n",
        "   columnas.append(columna)"
      ],
      "metadata": {
        "id": "NjPpxmgajNv-"
      },
      "execution_count": null,
      "outputs": []
    },
    {
      "cell_type": "code",
      "source": [
        "rows = list()\n",
        "for i in range(1,32):\n",
        "   row = \"Dia\" + str(i)\n",
        "   rows.append(row)"
      ],
      "metadata": {
        "id": "XvytSwI3ZYZv"
      },
      "execution_count": null,
      "outputs": []
    },
    {
      "cell_type": "code",
      "source": [
        "df.index = rows\n",
        "df.columns = columnas"
      ],
      "metadata": {
        "id": "78dR6WtYgRTD"
      },
      "execution_count": null,
      "outputs": []
    },
    {
      "cell_type": "code",
      "source": [
        "print(df)"
      ],
      "metadata": {
        "id": "De8tJtOkLODo"
      },
      "execution_count": null,
      "outputs": []
    },
    {
      "cell_type": "markdown",
      "source": [
        "# Extraer tres dias consecutivos "
      ],
      "metadata": {
        "id": "UwVix7cOekHZ"
      }
    },
    {
      "cell_type": "code",
      "source": [
        "#Undia= pd.DataFrame({\"Horas\" : Horas, \"Mediciones\": Mediciones})"
      ],
      "metadata": {
        "id": "4-EE18eztyCE"
      },
      "execution_count": null,
      "outputs": []
    },
    {
      "cell_type": "code",
      "source": [
        "diasAtipicos= df.iloc[17:20,:]\n",
        "diasTipicos = df.iloc[21:24,:]"
      ],
      "metadata": {
        "id": "WkJRufuVMFxa"
      },
      "execution_count": 76,
      "outputs": []
    },
    {
      "cell_type": "markdown",
      "source": [
        "#Spliting de datos"
      ],
      "metadata": {
        "id": "M4jZVK9HTZbG"
      }
    },
    {
      "cell_type": "code",
      "source": [
        "diasAtipicosToArray = diasAtipicos.to_numpy()\n",
        "diasAtipicosToArrayReshape = diasAtipicosToArray.reshape((diasAtipicosToArray.shape[1]*diasAtipicosToArray.shape[0],1))"
      ],
      "metadata": {
        "id": "gaadesadMTTa"
      },
      "execution_count": 77,
      "outputs": []
    },
    {
      "cell_type": "code",
      "source": [
        "diasTipicosToArray = diasTipicos.to_numpy()\n",
        "diasTipicosToArrayReshape = diasTipicosToArray.reshape((diasTipicosToArray.shape[1]*diasTipicosToArray.shape[0],1))"
      ],
      "metadata": {
        "id": "o3G9AR4CW_w5"
      },
      "execution_count": 80,
      "outputs": []
    },
    {
      "cell_type": "code",
      "source": [
        "from matplotlib import pyplot as plt\n",
        "plt.plot(diasAtipicosToArrayReshape)"
      ],
      "metadata": {
        "id": "dkvtmdXNRWjH"
      },
      "execution_count": null,
      "outputs": []
    },
    {
      "cell_type": "code",
      "source": [
        "from matplotlib import pyplot as plt\n",
        "plt.plot(diasTipicosToArrayReshape)"
      ],
      "metadata": {
        "id": "Oc_KFSFfXKEC"
      },
      "execution_count": null,
      "outputs": []
    },
    {
      "cell_type": "code",
      "source": [
        "from sklearn.model_selection import train_test_split\n",
        "\n",
        "#valores de X\n",
        "\n",
        "dominio = np.arange(0,diasAtipicosToArrayReshape.shape[0]*diasAtipicosToArrayReshape.shape[1])\n",
        "\n",
        "XA_train, XA_test, yA_train, yA_test = train_test_split(dominio, diasAtipicosToArrayReshape, test_size=0.33, shuffle=False)\n",
        "\n",
        "plt.figure()\n",
        "plt.plot(X_train, y_train)"
      ],
      "metadata": {
        "id": "_Cq_sJndPtll",
        "colab": {
          "base_uri": "https://localhost:8080/",
          "height": 282
        },
        "outputId": "58f0d043-9c0a-40a7-ea89-6157301f13f2"
      },
      "execution_count": 84,
      "outputs": [
        {
          "output_type": "execute_result",
          "data": {
            "text/plain": [
              "[<matplotlib.lines.Line2D at 0x7f68e3c4af90>]"
            ]
          },
          "metadata": {},
          "execution_count": 84
        },
        {
          "output_type": "display_data",
          "data": {
            "text/plain": [
              "<Figure size 432x288 with 1 Axes>"
            ],
            "image/png": "[encoded data removed]"
          },
          "metadata": {
            "needs_background": "light"
          }
        }
      ]
    },
    {
      "cell_type": "code",
      "source": [
        "XT_train, XT_test, yT_train, yT_test = train_test_split(dominio, diasTipicosToArrayReshape, test_size=0.33, shuffle=False)"
      ],
      "metadata": {
        "id": "r6fKmyJAXerf"
      },
      "execution_count": 85,
      "outputs": []
    },
    {
      "cell_type": "markdown",
      "source": [
        "#Modelo"
      ],
      "metadata": {
        "id": "6IYUSOZKUsYG"
      }
    },
    {
      "cell_type": "code",
      "source": [
        "from sklearn.linear_model import LinearRegression\n",
        "modelA = LinearRegression()\n",
        "XA_train = XA_train.reshape((-1, 1))\n",
        "modelA.fit(XA_train, yA_train)\n",
        "\n",
        "#Googlear un poquito sobre la regresion lineal con skelearn"
      ],
      "metadata": {
        "colab": {
          "base_uri": "https://localhost:8080/"
        },
        "id": "WxkTUXN0UvEM",
        "outputId": "08262c62-5259-4a2f-e1d2-42150273d9de"
      },
      "execution_count": 87,
      "outputs": [
        {
          "output_type": "execute_result",
          "data": {
            "text/plain": [
              "LinearRegression()"
            ]
          },
          "metadata": {},
          "execution_count": 87
        }
      ]
    },
    {
      "cell_type": "code",
      "source": [
        "from sklearn.linear_model import LinearRegression\n",
        "modelT = LinearRegression()\n",
        "XT_train = XT_train.reshape((-1, 1))\n",
        "modelT.fit(XT_train, yT_train)"
      ],
      "metadata": {
        "colab": {
          "base_uri": "https://localhost:8080/"
        },
        "id": "NYGuBgKgh--n",
        "outputId": "c000119c-53ff-4f82-e12f-b93f9374a66a"
      },
      "execution_count": 86,
      "outputs": [
        {
          "output_type": "execute_result",
          "data": {
            "text/plain": [
              "LinearRegression()"
            ]
          },
          "metadata": {},
          "execution_count": 86
        }
      ]
    },
    {
      "cell_type": "markdown",
      "source": [
        "#Forecasting"
      ],
      "metadata": {
        "id": "NaLFAhzwU5Sb"
      }
    },
    {
      "cell_type": "code",
      "source": [
        "print('Intersection:', modelA.intercept_)\n",
        "print('Slope:', modelA.coef_)\n",
        "\n",
        "xA_test_aux = XA_test.reshape((-1, 1))\n",
        "yA_pred = modelA.predict(xA_test_aux)"
      ],
      "metadata": {
        "colab": {
          "base_uri": "https://localhost:8080/"
        },
        "id": "GMv1gDzLU7ZK",
        "outputId": "62e936d7-7c9f-457c-881f-a3afe7a9686f"
      },
      "execution_count": 88,
      "outputs": [
        {
          "output_type": "stream",
          "name": "stdout",
          "text": [
            "Intersection: [-9.94557823]\n",
            "Slope: [[0.03935085]]\n"
          ]
        }
      ]
    },
    {
      "cell_type": "code",
      "source": [
        "plt.plot(yA_test)\n",
        "plt.plot(yA_pred)\n",
        "plt.margins(0)"
      ],
      "metadata": {
        "colab": {
          "base_uri": "https://localhost:8080/",
          "height": 265
        },
        "id": "baOubJcQU-Ml",
        "outputId": "d9f79f19-0882-42d6-c87b-abd8d46a5a2b"
      },
      "execution_count": 89,
      "outputs": [
        {
          "output_type": "display_data",
          "data": {
            "text/plain": [
              "<Figure size 432x288 with 1 Axes>"
            ],
            "image/png": "[encoded data removed]"
          },
          "metadata": {
            "needs_background": "light"
          }
        }
      ]
    },
    {
      "cell_type": "code",
      "source": [
        "print('Intersection:', modelT.intercept_)\n",
        "print('Slope:', modelT.coef_)\n",
        "\n",
        "xT_test_aux = XT_test.reshape((-1, 1))\n",
        "yT_pred = modelT.predict(xT_test_aux)"
      ],
      "metadata": {
        "colab": {
          "base_uri": "https://localhost:8080/"
        },
        "id": "2rMa9NfAiRZ5",
        "outputId": "1ed8ea69-bddf-46b7-8b33-033be567be5d"
      },
      "execution_count": 91,
      "outputs": [
        {
          "output_type": "stream",
          "name": "stdout",
          "text": [
            "Intersection: [-18.20153061]\n",
            "Slope: [[0.09634173]]\n",
            "Intersection: [-18.20153061]\n",
            "Slope: [[0.09634173]]\n"
          ]
        }
      ]
    },
    {
      "cell_type": "code",
      "source": [
        "plt.plot(yT_test)\n",
        "plt.plot(yT_pred)\n",
        "plt.margins(0)"
      ],
      "metadata": {
        "colab": {
          "base_uri": "https://localhost:8080/",
          "height": 269
        },
        "id": "_EnFwpdPiZlH",
        "outputId": "cb190674-4f21-46dd-f9be-313a99bfd9d9"
      },
      "execution_count": 94,
      "outputs": [
        {
          "output_type": "display_data",
          "data": {
            "text/plain": [
              "<Figure size 432x288 with 1 Axes>"
            ],
            "image/png": "[encoded data removed]"
          },
          "metadata": {
            "needs_background": "light"
          }
        }
      ]
    },
    {
      "cell_type": "markdown",
      "source": [
        "#Validacion"
      ],
      "metadata": {
        "id": "7phnsJHrVcBU"
      }
    },
    {
      "cell_type": "code",
      "source": [
        "from sklearn.metrics import mean_squared_error as mse\n",
        "print(mse(yA_test,yA_pred))"
      ],
      "metadata": {
        "colab": {
          "base_uri": "https://localhost:8080/"
        },
        "id": "qq6H96VYVXmY",
        "outputId": "0f779f0b-3952-42cb-e637-bfd9b1b8216a"
      },
      "execution_count": 95,
      "outputs": [
        {
          "output_type": "stream",
          "name": "stdout",
          "text": [
            "144.73703386366472\n"
          ]
        }
      ]
    },
    {
      "cell_type": "code",
      "source": [
        "from sklearn.metrics import mean_squared_error as mse\n",
        "print(mse(yT_test,yT_pred))"
      ],
      "metadata": {
        "colab": {
          "base_uri": "https://localhost:8080/"
        },
        "id": "VpQIyjVUig1S",
        "outputId": "1dca19e9-4819-4ee1-fae3-8a911ac42992"
      },
      "execution_count": 96,
      "outputs": [
        {
          "output_type": "stream",
          "name": "stdout",
          "text": [
            "35.06522081435955\n"
          ]
        }
      ]
    },
    {
      "cell_type": "markdown",
      "source": [
        "#Observaciones"
      ],
      "metadata": {
        "id": "Y2K7C55TjPF4"
      }
    },
    {
      "cell_type": "markdown",
      "source": [
        "Probé de elegir dos set de dias diferentes, el que llamé diasAtipico tiene el último día con mediciones muy diferentes a las de los días anteriores y el que llamé diasTipicos tiene tres dias que dentro de todo fluctuaron parecido. Quería ver la diferencia en los ajustes. Si bien ninguna de las rectas es ideal, el error cuadrático medio disminuye mucho en el ajuste para el segundo set de días. "
      ],
      "metadata": {
        "id": "ynfy_SFxjRLY"
      }
    }
  ]
}