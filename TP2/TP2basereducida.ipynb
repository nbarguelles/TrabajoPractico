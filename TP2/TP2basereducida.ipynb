{
  "nbformat": 4,
  "nbformat_minor": 0,
  "metadata": {
    "colab": {
      "provenance": [],
      "collapsed_sections": []
    },
    "kernelspec": {
      "name": "python3",
      "display_name": "Python 3"
    },
    "language_info": {
      "name": "python"
    }
  },
  "cells": [
    {
      "cell_type": "markdown",
      "source": [
        "Trabajo Práctico N° 2"
      ],
      "metadata": {
        "id": "VNdIEWkk81gf"
      }
    },
    {
      "cell_type": "markdown",
      "source": [
        "#Data acquisition"
      ],
      "metadata": {
        "id": "cWM7gD28Ad8X"
      }
    },
    {
      "cell_type": "code",
      "source": [
        "import pandas as pd\n",
        "df = pd.read_csv(\"sym_h_reduced.csv\")"
      ],
      "metadata": {
        "id": "YEDj6qWeAg1E"
      },
      "execution_count": 2,
      "outputs": []
    },
    {
      "cell_type": "code",
      "source": [
        "print(df) #usaremos solo symh"
      ],
      "metadata": {
        "id": "gDgD_wp6AqTf",
        "colab": {
          "base_uri": "https://localhost:8080/"
        },
        "outputId": "66062f5c-effa-4e2a-84d8-6e568d39fb0e"
      },
      "execution_count": 3,
      "outputs": [
        {
          "output_type": "stream",
          "name": "stdout",
          "text": [
            "       Unnamed: 0            timestamp        DATE          TIME  DOY  ASY-D  \\\n",
            "0         3201120  2013-02-01 00:00:00  2013-02-01  00:00:00.000   32   15.0   \n",
            "1         3201121  2013-02-01 00:01:00  2013-02-01  00:01:00.000   32   14.0   \n",
            "2         3201122  2013-02-01 00:02:00  2013-02-01  00:02:00.000   32   13.0   \n",
            "3         3201123  2013-02-01 00:03:00  2013-02-01  00:03:00.000   32   13.0   \n",
            "4         3201124  2013-02-01 00:04:00  2013-02-01  00:04:00.000   32   13.0   \n",
            "...           ...                  ...         ...           ...  ...    ...   \n",
            "40315     3241435  2013-02-28 23:55:00  2013-02-28  23:55:00.000   59   24.0   \n",
            "40316     3241436  2013-02-28 23:56:00  2013-02-28  23:56:00.000   59   24.0   \n",
            "40317     3241437  2013-02-28 23:57:00  2013-02-28  23:57:00.000   59   23.0   \n",
            "40318     3241438  2013-02-28 23:58:00  2013-02-28  23:58:00.000   59   21.0   \n",
            "40319     3241439  2013-02-28 23:59:00  2013-02-28  23:59:00.000   59   21.0   \n",
            "\n",
            "       ASY-H  SYM-D  SYM-H  \n",
            "0       34.0    0.0  -10.0  \n",
            "1       34.0    0.0  -10.0  \n",
            "2       34.0    0.0  -10.0  \n",
            "3       35.0    0.0  -10.0  \n",
            "4       35.0    0.0  -10.0  \n",
            "...      ...    ...    ...  \n",
            "40315   63.0  -11.0  -26.0  \n",
            "40316   64.0  -10.0  -26.0  \n",
            "40317   64.0  -11.0  -27.0  \n",
            "40318   65.0  -11.0  -28.0  \n",
            "40319   65.0  -10.0  -28.0  \n",
            "\n",
            "[40320 rows x 9 columns]\n"
          ]
        }
      ]
    },
    {
      "cell_type": "markdown",
      "source": [
        "#Plot"
      ],
      "metadata": {
        "id": "LAbSMO0_trsM"
      }
    },
    {
      "cell_type": "code",
      "source": [
        "data = df[\"SYM-H\"]\n",
        "print(data.shape)"
      ],
      "metadata": {
        "colab": {
          "base_uri": "https://localhost:8080/"
        },
        "id": "0dt6C1FuA523",
        "outputId": "1fd0b586-d17b-4f44-fff5-555a4fb9e4a6"
      },
      "execution_count": 4,
      "outputs": [
        {
          "output_type": "stream",
          "name": "stdout",
          "text": [
            "(40320,)\n"
          ]
        }
      ]
    },
    {
      "cell_type": "code",
      "source": [
        "print(data)"
      ],
      "metadata": {
        "id": "nR0HWO4ct5wd",
        "colab": {
          "base_uri": "https://localhost:8080/"
        },
        "outputId": "25ae5e49-3b90-4dd0-b278-afe58c5ba101"
      },
      "execution_count": 5,
      "outputs": [
        {
          "output_type": "stream",
          "name": "stdout",
          "text": [
            "0       -10.0\n",
            "1       -10.0\n",
            "2       -10.0\n",
            "3       -10.0\n",
            "4       -10.0\n",
            "         ... \n",
            "40315   -26.0\n",
            "40316   -26.0\n",
            "40317   -27.0\n",
            "40318   -28.0\n",
            "40319   -28.0\n",
            "Name: SYM-H, Length: 40320, dtype: float64\n"
          ]
        }
      ]
    },
    {
      "cell_type": "code",
      "source": [
        "min(data)"
      ],
      "metadata": {
        "colab": {
          "base_uri": "https://localhost:8080/"
        },
        "id": "NWuSR9Nyt_4Z",
        "outputId": "6a48d272-1fbc-4627-d3fe-6ed3cdb2a619"
      },
      "execution_count": 6,
      "outputs": [
        {
          "output_type": "execute_result",
          "data": {
            "text/plain": [
              "-45.0"
            ]
          },
          "metadata": {},
          "execution_count": 6
        }
      ]
    },
    {
      "cell_type": "code",
      "source": [
        "max(data)"
      ],
      "metadata": {
        "colab": {
          "base_uri": "https://localhost:8080/"
        },
        "id": "KC1iyBw0uDJH",
        "outputId": "52a328dc-79d1-486b-b1c4-74e538dde415"
      },
      "execution_count": 7,
      "outputs": [
        {
          "output_type": "execute_result",
          "data": {
            "text/plain": [
              "16.0"
            ]
          },
          "metadata": {},
          "execution_count": 7
        }
      ]
    },
    {
      "cell_type": "code",
      "source": [
        "#Para ver si hay valores faltantes\n",
        "miss_values_count = data.isnull().sum(min_count=1)\n",
        "miss_values_count = miss_values_count[miss_values_count != 0]\n",
        "print(miss_values_count)\n",
        "#No hay valores faltantes"
      ],
      "metadata": {
        "colab": {
          "base_uri": "https://localhost:8080/"
        },
        "id": "91AzgU2Huv2j",
        "outputId": "4366450e-8a4a-4ba2-918e-fbfa5b9c4ec5"
      },
      "execution_count": 8,
      "outputs": [
        {
          "output_type": "stream",
          "name": "stdout",
          "text": [
            "[]\n"
          ]
        }
      ]
    },
    {
      "cell_type": "code",
      "source": [
        " #Otra forma de ver valores faltantes\n",
        " from math import isnan\n",
        " sum(map(isnan, data)) "
      ],
      "metadata": {
        "colab": {
          "base_uri": "https://localhost:8080/"
        },
        "id": "MQwttPctvX-e",
        "outputId": "d3f46f91-6a2c-44ee-cdfa-37af5c3a7518"
      },
      "execution_count": 9,
      "outputs": [
        {
          "output_type": "execute_result",
          "data": {
            "text/plain": [
              "0"
            ]
          },
          "metadata": {},
          "execution_count": 9
        }
      ]
    },
    {
      "cell_type": "code",
      "source": [
        "#Estadisticas\n",
        "import statistics as stat\n",
        "\n",
        "media = stat.mean(data)\n",
        "print(media)\n",
        "mediana =stat.median(data)\n",
        "print(mediana)\n",
        "\n",
        "desviacion = stat.pstdev(data)\n",
        "print(desviacion)"
      ],
      "metadata": {
        "colab": {
          "base_uri": "https://localhost:8080/"
        },
        "id": "WYyGoKlLvIuv",
        "outputId": "cf356e22-ba85-427b-ac71-564199a25f4c"
      },
      "execution_count": 10,
      "outputs": [
        {
          "output_type": "stream",
          "name": "stdout",
          "text": [
            "-8.146478174603175\n",
            "-8.0\n",
            "9.760267411194004\n"
          ]
        }
      ]
    },
    {
      "cell_type": "code",
      "source": [
        "from matplotlib import pyplot as plt\n",
        "plt.figure(figsize = (15,8), dpi=80)\n",
        "plt.plot(data)"
      ],
      "metadata": {
        "colab": {
          "base_uri": "https://localhost:8080/",
          "height": 550
        },
        "id": "Cw6i9mIEA431",
        "outputId": "920ee7ef-3323-4cf8-fc44-adb1aa7e3867"
      },
      "execution_count": 11,
      "outputs": [
        {
          "output_type": "execute_result",
          "data": {
            "text/plain": [
              "[<matplotlib.lines.Line2D at 0x7f7ffe595910>]"
            ]
          },
          "metadata": {},
          "execution_count": 11
        },
        {
          "output_type": "display_data",
          "data": {
            "text/plain": [
              "<Figure size 1200x640 with 1 Axes>"
            ],
            "image/png": "[encoded data removed]"
          },
          "metadata": {
            "needs_background": "light"
          }
        }
      ]
    },
    {
      "cell_type": "markdown",
      "source": [
        "#Funcion\n",
        "Selección de intervalo en la serie de tiempo."
      ],
      "metadata": {
        "id": "Uc3tY3wrxPGL"
      }
    },
    {
      "cell_type": "code",
      "source": [
        "# tres variables para determinar fecha de inicio y 3 para determinar dia de fi\n",
        "ddI = \"01\"\n",
        "mmI = \"02\"\n",
        "yyI = \"2013\"\n",
        "yymmddI = str(yyI) +\"-\"+ str(mmI) + \"-\" + str(ddI)\n",
        "\n",
        "ddE = \"10\"\n",
        "mmE = \"02\"\n",
        "yyE = \"2013\"\n",
        "yymmddE = str(yyE) + \"-\" + str(mmE) + \"-\" +str(ddE)\n",
        "\n",
        "#Esto se queda solo con los dias del 01 02 2013 hasta 10 02 2013\n",
        "dataReduced = df.loc[(df.timestamp >= yymmddI) & (df.timestamp<= yymmddE)]\n"
      ],
      "metadata": {
        "id": "Q4kM_NY4Bdbd"
      },
      "execution_count": 12,
      "outputs": []
    },
    {
      "cell_type": "code",
      "source": [
        "def seleccion_intervalos(ddI,mmI,yyI,ddE,mmE,yyE,frame):\n",
        "  yymmddI = str(yyI) +\"-\"+ str(mmI) + \"-\" + str(ddI)\n",
        "  yymmddE = str(yyE) + \"-\" + str(mmE) + \"-\" +str(ddE)\n",
        "  datos = frame.loc[(frame.timestamp >= yymmddI) & (frame.timestamp<= yymmddE)]\n",
        "  return datos"
      ],
      "metadata": {
        "id": "yYiET_KUG5kr"
      },
      "execution_count": 13,
      "outputs": []
    },
    {
      "cell_type": "code",
      "source": [
        "DatosReducidos = seleccion_intervalos(\"01\",\"02\",\"2013\",\"10\",\"02\",\"2013\",df)"
      ],
      "metadata": {
        "id": "wpHOAMFrR4QB"
      },
      "execution_count": 14,
      "outputs": []
    },
    {
      "cell_type": "code",
      "source": [
        "print(DatosReducidos.shape)"
      ],
      "metadata": {
        "colab": {
          "base_uri": "https://localhost:8080/"
        },
        "id": "vQTQU8NmDYFl",
        "outputId": "383c1e5e-df4d-43e9-ccf7-9eacdaece65d"
      },
      "execution_count": 15,
      "outputs": [
        {
          "output_type": "stream",
          "name": "stdout",
          "text": [
            "(12960, 9)\n"
          ]
        }
      ]
    },
    {
      "cell_type": "markdown",
      "source": [
        "#Split de datos"
      ],
      "metadata": {
        "id": "MApCDEddEDD6"
      }
    },
    {
      "cell_type": "code",
      "source": [
        "from sklearn.model_selection import train_test_split"
      ],
      "metadata": {
        "id": "6ce7ZsyzD_Fk"
      },
      "execution_count": 16,
      "outputs": []
    },
    {
      "cell_type": "code",
      "source": [
        "dataSet = dataReduced[\"SYM-H\"]\n",
        "print(dataSet.shape)"
      ],
      "metadata": {
        "id": "DHUR_ZzVEOQN",
        "colab": {
          "base_uri": "https://localhost:8080/"
        },
        "outputId": "0a9f8cd9-f6ce-4429-ae16-01f9d79b5b39"
      },
      "execution_count": 17,
      "outputs": [
        {
          "output_type": "stream",
          "name": "stdout",
          "text": [
            "(12960,)\n"
          ]
        }
      ]
    },
    {
      "cell_type": "code",
      "source": [
        "data_train, data_test = train_test_split(dataSet, test_size = 0.2, shuffle = False)\n",
        "print(data_train.shape)\n",
        "print(data_test.shape)"
      ],
      "metadata": {
        "colab": {
          "base_uri": "https://localhost:8080/"
        },
        "id": "VYUrHxf9ElKm",
        "outputId": "032a9d34-57eb-44bc-b991-cf550a553f5f"
      },
      "execution_count": 18,
      "outputs": [
        {
          "output_type": "stream",
          "name": "stdout",
          "text": [
            "(10368,)\n",
            "(2592,)\n"
          ]
        }
      ]
    },
    {
      "cell_type": "code",
      "source": [
        "#Escalador\n",
        "#Normalizacion que se basa en minimo y maximo #Estandarizacion divide en desvio estandar\n",
        "#Antes de esto sacar outliers o suavizar los datos\n",
        "#Usamos normalizacion\n",
        "from sklearn.preprocessing import MinMaxScaler"
      ],
      "metadata": {
        "id": "WEmaNE6mFRtq"
      },
      "execution_count": 19,
      "outputs": []
    },
    {
      "cell_type": "code",
      "source": [
        "scaler = MinMaxScaler()\n",
        "#transformo los datos a un arreglo\n",
        "data_train = data_train.to_numpy()\n",
        "#data_train = data_train.to_numpy()\n",
        "data_train = data_train.reshape((-1,1))\n",
        "data_train_scaled = scaler.fit_transform(data_train)"
      ],
      "metadata": {
        "id": "tF1xo-qYF3pZ"
      },
      "execution_count": 20,
      "outputs": []
    },
    {
      "cell_type": "code",
      "source": [
        "data_test = data_test.to_numpy()\n",
        "#data_train = data_train.to_numpy()\n",
        "data_test = data_test.reshape((-1,1))\n",
        "data_test_scaled = scaler.transform(data_test)"
      ],
      "metadata": {
        "id": "VszC4nZVIytf"
      },
      "execution_count": 21,
      "outputs": []
    },
    {
      "cell_type": "markdown",
      "source": [
        "#Funcion split sliding window"
      ],
      "metadata": {
        "id": "rnSdYjiFx4de"
      }
    },
    {
      "cell_type": "code",
      "source": [
        "#Defino la funcion sliding window\n",
        "from numpy import array\n",
        "def split_sequence(sequence, n_steps_in, n_steps_out):\n",
        "  X, y = list(), list()\n",
        "  for i in range(len(sequence)):\n",
        "    end_ix = i + n_steps_in\n",
        "    out_end_ix = end_ix + n_steps_out\n",
        "    if(out_end_ix > len(sequence)):\n",
        "      break\n",
        "    seq_x, seq_y = sequence[i:end_ix] , sequence[end_ix:out_end_ix]\n",
        "    X.append(seq_x)\n",
        "    y.append(seq_y)\n",
        "  return array(X),array(y)"
      ],
      "metadata": {
        "id": "eFD2yw73JB11"
      },
      "execution_count": 22,
      "outputs": []
    },
    {
      "cell_type": "code",
      "source": [
        "#Probamos la funcion\n",
        "n_steps_in = 6\n",
        "n_steps_out = 4\n",
        "\n",
        "X, y =split_sequence(data_train_scaled, n_steps_in, n_steps_out)"
      ],
      "metadata": {
        "id": "9w0W9kfRK_GC"
      },
      "execution_count": 23,
      "outputs": []
    },
    {
      "cell_type": "markdown",
      "source": [
        "# Modelo"
      ],
      "metadata": {
        "id": "-A9VFcPcLv9F"
      }
    },
    {
      "cell_type": "code",
      "source": [
        "from keras.models import Sequential\n",
        "from keras.layers import Dense"
      ],
      "metadata": {
        "id": "vH8JxhSILy_n"
      },
      "execution_count": 24,
      "outputs": []
    },
    {
      "cell_type": "code",
      "source": [
        "model = Sequential()\n",
        "model.add(Dense(50, activation= \"tanh\", input_dim=n_steps_in))\n",
        "model.add(Dense(n_steps_out))\n",
        "\n",
        "model.compile(optimizer =\"adam\", loss=\"mse\")\n",
        "#epoca es una iteracion sobre el set de entrenamiento\n",
        "history = model.fit(X,y, epochs = 8,validation_split= 0.2, verbose =2)"
      ],
      "metadata": {
        "colab": {
          "base_uri": "https://localhost:8080/"
        },
        "id": "J5-XUNfMMEMw",
        "outputId": "6539d145-65f4-497c-8dff-362bea21a9a1"
      },
      "execution_count": 25,
      "outputs": [
        {
          "output_type": "stream",
          "name": "stdout",
          "text": [
            "Epoch 1/8\n",
            "259/259 - 1s - loss: 0.0078 - val_loss: 9.1969e-04 - 1s/epoch - 5ms/step\n",
            "Epoch 2/8\n",
            "259/259 - 0s - loss: 5.1517e-04 - val_loss: 6.0324e-04 - 418ms/epoch - 2ms/step\n",
            "Epoch 3/8\n",
            "259/259 - 0s - loss: 3.7899e-04 - val_loss: 5.6186e-04 - 405ms/epoch - 2ms/step\n",
            "Epoch 4/8\n",
            "259/259 - 0s - loss: 3.5029e-04 - val_loss: 5.5614e-04 - 496ms/epoch - 2ms/step\n",
            "Epoch 5/8\n",
            "259/259 - 0s - loss: 3.3522e-04 - val_loss: 5.0379e-04 - 490ms/epoch - 2ms/step\n",
            "Epoch 6/8\n",
            "259/259 - 0s - loss: 3.1279e-04 - val_loss: 4.8241e-04 - 419ms/epoch - 2ms/step\n",
            "Epoch 7/8\n",
            "259/259 - 0s - loss: 2.9308e-04 - val_loss: 4.3925e-04 - 486ms/epoch - 2ms/step\n",
            "Epoch 8/8\n",
            "259/259 - 0s - loss: 2.7669e-04 - val_loss: 4.2058e-04 - 409ms/epoch - 2ms/step\n"
          ]
        }
      ]
    },
    {
      "cell_type": "code",
      "source": [
        "plt.plot(history.history[\"loss\"])\n",
        "plt.plot(history.history[\"val_loss\"])"
      ],
      "metadata": {
        "colab": {
          "base_uri": "https://localhost:8080/",
          "height": 282
        },
        "id": "59A73H_gOh8a",
        "outputId": "7fbf0b0b-8d54-45d5-985a-53f8cc5bf98b"
      },
      "execution_count": 26,
      "outputs": [
        {
          "output_type": "execute_result",
          "data": {
            "text/plain": [
              "[<matplotlib.lines.Line2D at 0x7f7f8824bcd0>]"
            ]
          },
          "metadata": {},
          "execution_count": 26
        },
        {
          "output_type": "display_data",
          "data": {
            "text/plain": [
              "<Figure size 432x288 with 1 Axes>"
            ],
            "image/png": "[encoded data removed]"
          },
          "metadata": {
            "needs_background": "light"
          }
        }
      ]
    },
    {
      "cell_type": "markdown",
      "source": [
        "#Prediccion"
      ],
      "metadata": {
        "id": "OJVFJcdbVoQu"
      }
    },
    {
      "cell_type": "code",
      "source": [
        "#WALKING FOWARD\n",
        "y_hat_matrix= list()\n",
        "for i in range(len(data_train_scaled)):\n",
        "  j = i*n_steps_in\n",
        "  k= (i+1)*n_steps_in\n",
        "  if(k>len(data_train_scaled)):\n",
        "    break\n",
        "  y_hat_i = model.predict(data_train_scaled[j:k,:].reshape((1,-1)))\n",
        "  y_hat_matrix.append(y_hat_i)"
      ],
      "metadata": {
        "id": "eopssomPEHGj"
      },
      "execution_count": 27,
      "outputs": []
    },
    {
      "cell_type": "code",
      "source": [
        "#Predecir para uno\n",
        "#y_hat_1 = model.predict(data_train_scaled[-5:].reshape((1,-1)))"
      ],
      "metadata": {
        "id": "VKYd_cqKO1hs"
      },
      "execution_count": null,
      "outputs": []
    },
    {
      "cell_type": "code",
      "source": [
        "#Para todos \n",
        "y_hat_matrix"
      ],
      "metadata": {
        "id": "u6Kcfsq1O_en"
      },
      "execution_count": null,
      "outputs": []
    },
    {
      "cell_type": "markdown",
      "source": [
        "#Validacion"
      ],
      "metadata": {
        "id": "6h2GUnL_Qdfk"
      }
    },
    {
      "cell_type": "code",
      "source": [
        "#Validacion\n",
        "from sklearn.metrics import mean_squared_error as mse"
      ],
      "metadata": {
        "id": "D3-kAfplSb62"
      },
      "execution_count": 33,
      "outputs": []
    },
    {
      "cell_type": "code",
      "source": [
        "#Para 1\n",
        "#mse(y_hat_1, data_test_scaled[0:3].reshape((1,-1)))"
      ],
      "metadata": {
        "id": "3QwH8lAMQhND"
      },
      "execution_count": null,
      "outputs": []
    },
    {
      "cell_type": "code",
      "source": [
        "y_hat_matrix[2]"
      ],
      "metadata": {
        "id": "NA_N4KTfR1LP"
      },
      "execution_count": null,
      "outputs": []
    },
    {
      "cell_type": "code",
      "source": [
        "mse(y_hat_matrix[1], data_test_scaled[4:8].reshape((1,-1)))"
      ],
      "metadata": {
        "colab": {
          "base_uri": "https://localhost:8080/"
        },
        "id": "MPQPydmNG28z",
        "outputId": "1e47610f-4f60-4411-f199-cd97b05ba615"
      },
      "execution_count": 40,
      "outputs": [
        {
          "output_type": "execute_result",
          "data": {
            "text/plain": [
              "0.00025183815808903605"
            ]
          },
          "metadata": {},
          "execution_count": 40
        }
      ]
    },
    {
      "cell_type": "code",
      "source": [
        "#Para todos\n",
        "#errores = list()\n",
        "#for i in range(len(y_hat_matrix)):\n",
        " # l = i*n_steps_out\n",
        " # m = (i+1)*n_steps_out\n",
        " # if(m>len(data_test_scaled)):\n",
        " #   break\n",
        " # error_i = mse(y_hat_matrix[i], data_test_scaled[l:m,:].reshape((1,-1)))\n",
        " # errores.append(error_i)"
      ],
      "metadata": {
        "id": "k35wjwcJQqNh"
      },
      "execution_count": null,
      "outputs": []
    }
  ]
}